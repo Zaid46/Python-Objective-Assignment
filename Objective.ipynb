{
 "cells": [
  {
   "cell_type": "markdown",
   "metadata": {},
   "source": [
    "**PYTHON Objective Practise Questions**"
   ]
  },
  {
   "cell_type": "markdown",
   "metadata": {},
   "source": [
    "**Q1. How can we create an iterator object from a list?**"
   ]
  },
  {
   "cell_type": "markdown",
   "metadata": {},
   "source": [
    "*a) Bypassing the given list to the iter() function*"
   ]
  },
  {
   "cell_type": "markdown",
   "metadata": {},
   "source": [
    "**Q2. If the function contains at least of one “yield” statement, then it becomes __________**"
   ]
  },
  {
   "cell_type": "markdown",
   "metadata": {},
   "source": [
    "*b) a generator function*"
   ]
  },
  {
   "cell_type": "markdown",
   "metadata": {},
   "source": [
    "**Q3. What is the output of the code?**"
   ]
  },
  {
   "cell_type": "markdown",
   "metadata": {},
   "source": [
    "*b) 1 9*"
   ]
  },
  {
   "cell_type": "markdown",
   "metadata": {},
   "source": [
    "**Q4. What are the criteria that must be met to create closure in Python?**"
   ]
  },
  {
   "cell_type": "markdown",
   "metadata": {},
   "source": [
    "*d) All of the above.*"
   ]
  },
  {
   "cell_type": "markdown",
   "metadata": {},
   "source": [
    "**Q5. What is the output of the code?**"
   ]
  },
  {
   "cell_type": "markdown",
   "metadata": {},
   "source": [
    "*d) 50*"
   ]
  },
  {
   "cell_type": "markdown",
   "metadata": {},
   "source": [
    "**Q6. What is the output of the code?**"
   ]
  },
  {
   "cell_type": "markdown",
   "metadata": {},
   "source": [
    "c) I got decorated\n",
    "\n",
    "   I am ordinary"
   ]
  },
  {
   "cell_type": "markdown",
   "metadata": {},
   "source": [
    "**Q7: What is the more pythonic way to use getters and setters?**"
   ]
  },
  {
   "cell_type": "markdown",
   "metadata": {},
   "source": [
    "*d) @property*"
   ]
  },
  {
   "cell_type": "markdown",
   "metadata": {},
   "source": [
    "**Q8. In Python, there is a built-in function property() that returns a property object. The property object has which of the methods?**"
   ]
  },
  {
   "cell_type": "markdown",
   "metadata": {},
   "source": [
    "*a) getter() and setter()*"
   ]
  },
  {
   "cell_type": "markdown",
   "metadata": {},
   "source": [
    "**Q9. Which of the following statement is true?**"
   ]
  },
  {
   "cell_type": "markdown",
   "metadata": {},
   "source": [
    "*a) You cannot chain multiple decorators in Python.*"
   ]
  },
  {
   "cell_type": "markdown",
   "metadata": {},
   "source": [
    "**Q10. For the following codes, which of the following statements is true?**"
   ]
  },
  {
   "cell_type": "markdown",
   "metadata": {},
   "source": [
    "*b) Both printHello() and the reference to the same object.*"
   ]
  },
  {
   "cell_type": "markdown",
   "metadata": {},
   "source": [
    "**Q11. What is the output of the program?**"
   ]
  },
  {
   "cell_type": "markdown",
   "metadata": {},
   "source": [
    "*b) a = 10*"
   ]
  },
  {
   "cell_type": "markdown",
   "metadata": {},
   "source": [
    "**Q12. Which of the following statements is true?**"
   ]
  },
  {
   "cell_type": "markdown",
   "metadata": {},
   "source": [
    "*a) A class is a blueprint for the object.*"
   ]
  },
  {
   "cell_type": "markdown",
   "metadata": {},
   "source": [
    "**Q13. What is the output of the code?**"
   ]
  },
  {
   "cell_type": "markdown",
   "metadata": {},
   "source": [
    "*c) Java*"
   ]
  },
  {
   "cell_type": "markdown",
   "metadata": {},
   "source": [
    "**Q14. What is the function of the __init__() function in Python?**"
   ]
  },
  {
   "cell_type": "markdown",
   "metadata": {},
   "source": [
    "*a) Initialises the class for use.*"
   ]
  },
  {
   "cell_type": "markdown",
   "metadata": {},
   "source": [
    "**Q15. What is the output of the code?**"
   ]
  },
  {
   "cell_type": "markdown",
   "metadata": {},
   "source": [
    "*b) 1 1*"
   ]
  },
  {
   "cell_type": "markdown",
   "metadata": {},
   "source": [
    "**Q16. Which of the following code used the inheritance feature?**"
   ]
  },
  {
   "cell_type": "markdown",
   "metadata": {},
   "source": [
    "c) class Foo:\n",
    "    \n",
    "    pass\n",
    "\n",
    "class Hoo(Foo):\n",
    "    \n",
    "    pass"
   ]
  },
  {
   "cell_type": "markdown",
   "metadata": {},
   "source": [
    "**Q17 If you a class is derived from two different classes, it’s called** "
   ]
  },
  {
   "cell_type": "markdown",
   "metadata": {},
   "source": [
    "*b) Multiple Inheritance*"
   ]
  },
  {
   "cell_type": "markdown",
   "metadata": {},
   "source": [
    "**Q18. Which of the following statements is true?**"
   ]
  },
  {
   "cell_type": "markdown",
   "metadata": {},
   "source": [
    "*d)All of the above.*"
   ]
  },
  {
   "cell_type": "markdown",
   "metadata": {},
   "source": [
    "**Q19. What is the output of the code?**"
   ]
  },
  {
   "cell_type": "markdown",
   "metadata": {},
   "source": [
    "*a) 2 2*"
   ]
  },
  {
   "cell_type": "markdown",
   "metadata": {},
   "source": [
    "**Q20. Opening a file in ‘a’ mode**"
   ]
  },
  {
   "cell_type": "markdown",
   "metadata": {},
   "source": [
    "*c) opens the file for appending, at the end of file*"
   ]
  },
  {
   "cell_type": "markdown",
   "metadata": {},
   "source": [
    "**Q21. What does the following code do?**"
   ]
  },
  {
   "cell_type": "markdown",
   "metadata": {},
   "source": [
    "*b) Opens test.txt file for reading only*"
   ]
  },
  {
   "cell_type": "markdown",
   "metadata": {},
   "source": [
    "**Q22. Which of the codes closes files automatically if an exception occurs?**"
   ]
  },
  {
   "cell_type": "markdown",
   "metadata": {},
   "source": [
    "b)"
   ]
  },
  {
   "cell_type": "markdown",
   "metadata": {},
   "source": [
    "**Q23. For the following code,**"
   ]
  },
  {
   "cell_type": "markdown",
   "metadata": {},
   "source": [
    "*d)All of the above.*"
   ]
  },
  {
   "cell_type": "markdown",
   "metadata": {},
   "source": [
    "**Q24. What does the following code do?**"
   ]
  },
  {
   "cell_type": "markdown",
   "metadata": {},
   "source": [
    "*c) Prints all the directories and files inside the given directory*"
   ]
  },
  {
   "cell_type": "markdown",
   "metadata": {},
   "source": [
    "**Q25. Which of the following is correct?**"
   ]
  },
  {
   "cell_type": "markdown",
   "metadata": {},
   "source": [
    "*d) All of the above.*"
   ]
  },
  {
   "cell_type": "markdown",
   "metadata": {},
   "source": [
    "**Q26. What will happen if we try to open the file that doesn’t exist?**"
   ]
  },
  {
   "cell_type": "markdown",
   "metadata": {},
   "source": [
    "*d) None of the above. File Not Found error.*"
   ]
  },
  {
   "cell_type": "markdown",
   "metadata": {},
   "source": [
    "**Q27. What is the output of the code?**"
   ]
  },
  {
   "cell_type": "markdown",
   "metadata": {},
   "source": [
    "*b) 2.0*"
   ]
  },
  {
   "cell_type": "markdown",
   "metadata": {},
   "source": [
    "**Q28. What does the following code do?**"
   ]
  },
  {
   "cell_type": "markdown",
   "metadata": {},
   "source": [
    "*c) Prints Two if the TypeError or ZeroDivisionError exception occurs.*"
   ]
  },
  {
   "cell_type": "markdown",
   "metadata": {},
   "source": [
    "**Q29. Which of the following statement is true?**"
   ]
  },
  {
   "cell_type": "markdown",
   "metadata": {},
   "source": [
    "*b) You can create the user-defined exception by deriving a class from Exception class.*"
   ]
  },
  {
   "cell_type": "markdown",
   "metadata": {},
   "source": [
    "**Q30. Which of the following statement is true?**"
   ]
  },
  {
   "cell_type": "markdown",
   "metadata": {},
   "source": [
    "*d) All of the above*"
   ]
  },
  {
   "cell_type": "markdown",
   "metadata": {},
   "source": [
    "**Q31. What is the output of the code?**"
   ]
  },
  {
   "cell_type": "markdown",
   "metadata": {},
   "source": [
    "*b) Python is awesome.*"
   ]
  },
  {
   "cell_type": "markdown",
   "metadata": {},
   "source": [
    "**Q32. If the return statement is not used inside the function, the function will return**"
   ]
  },
  {
   "cell_type": "markdown",
   "metadata": {},
   "source": [
    "*b) None object*"
   ]
  },
  {
   "cell_type": "markdown",
   "metadata": {},
   "source": [
    "**Q33. What is the output of the code?**"
   ]
  },
  {
   "cell_type": "markdown",
   "metadata": {},
   "source": [
    "*b) Hello ('Frodo', 'Sauron')*"
   ]
  },
  {
   "cell_type": "markdown",
   "metadata": {},
   "source": [
    "**Q34. What is a recursive function?**"
   ]
  },
  {
   "cell_type": "markdown",
   "metadata": {},
   "source": [
    "*b) A function that calls itself.*"
   ]
  },
  {
   "cell_type": "markdown",
   "metadata": {},
   "source": [
    "**Q35. What is the output of the program?**"
   ]
  },
  {
   "cell_type": "markdown",
   "metadata": {},
   "source": [
    "*c) 25*"
   ]
  },
  {
   "cell_type": "markdown",
   "metadata": {},
   "source": [
    "**Q36. What is the output of the program?**"
   ]
  },
  {
   "cell_type": "markdown",
   "metadata": {},
   "source": [
    "*a) 10*"
   ]
  },
  {
   "cell_type": "markdown",
   "metadata": {},
   "source": [
    "**Q37. Suppose you need to print pi constant defined in the math module. Which of the following code can do this task?**"
   ]
  },
  {
   "cell_type": "markdown",
   "metadata": {},
   "source": [
    "*c) from math import pi*\n",
    "*print (pi)*"
   ]
  },
  {
   "cell_type": "markdown",
   "metadata": {},
   "source": [
    "**Q38. Which operator is used in Python to import modules from the packages?**"
   ]
  },
  {
   "cell_type": "markdown",
   "metadata": {},
   "source": [
    "*a) . operator*"
   ]
  },
  {
   "cell_type": "markdown",
   "metadata": {},
   "source": [
    "**Q39. What is the output of the code?**"
   ]
  },
  {
   "cell_type": "markdown",
   "metadata": {},
   "source": [
    "*b) (1,3,6)*"
   ]
  },
  {
   "cell_type": "markdown",
   "metadata": {},
   "source": [
    "**Q40. What is the output of the code?**"
   ]
  },
  {
   "cell_type": "markdown",
   "metadata": {},
   "source": [
    "*c) Nothing will be printed*"
   ]
  },
  {
   "cell_type": "markdown",
   "metadata": {},
   "source": [
    "**Q41. The if-elif-else executes only one block of code among several blocks**"
   ]
  },
  {
   "cell_type": "markdown",
   "metadata": {},
   "source": [
    "*a) True*"
   ]
  },
  {
   "cell_type": "markdown",
   "metadata": {},
   "source": [
    "**Q42. What is the output of the code?**"
   ]
  },
  {
   "cell_type": "markdown",
   "metadata": {},
   "source": [
    "*a) 2*\n",
    "\n",
    "  *1*"
   ]
  },
  {
   "cell_type": "markdown",
   "metadata": {},
   "source": [
    "**Q43. In the Python,for and while loop can have the optional else statement?**"
   ]
  },
  {
   "cell_type": "markdown",
   "metadata": {},
   "source": [
    "*c) Both loops can have optional else statement*"
   ]
  },
  {
   "cell_type": "markdown",
   "metadata": {},
   "source": [
    "**Q44. What is the output of the code?**"
   ]
  },
  {
   "cell_type": "markdown",
   "metadata": {},
   "source": [
    "*b) 10*"
   ]
  },
  {
   "cell_type": "markdown",
   "metadata": {},
   "source": [
    "**Q45. What is the output of the code?**"
   ]
  },
  {
   "cell_type": "markdown",
   "metadata": {},
   "source": [
    "*c) 4 is printed infinitely until the program closes*"
   ]
  },
  {
   "cell_type": "markdown",
   "metadata": {},
   "source": [
    "**Q46. Is it better to use the for loop instead of while if we are iterating through a sequence?**"
   ]
  },
  {
   "cell_type": "markdown",
   "metadata": {},
   "source": [
    "*b) Yes, for loop is more pythonic choice.*"
   ]
  },
  {
   "cell_type": "markdown",
   "metadata": {},
   "source": [
    "**Q47. Which of the following statement is true?**"
   ]
  },
  {
   "cell_type": "markdown",
   "metadata": {},
   "source": [
    "*a) “break”-It terminates the loop containing it.*"
   ]
  },
  {
   "cell_type": "markdown",
   "metadata": {},
   "source": [
    "**Q48. What is the output of the code?**"
   ]
  },
  {
   "cell_type": "markdown",
   "metadata": {},
   "source": [
    "*c) PYTHN*"
   ]
  },
  {
   "cell_type": "markdown",
   "metadata": {},
   "source": [
    "**Q49. Which of the statement is true about the “pass” statement?**"
   ]
  },
  {
   "cell_type": "markdown",
   "metadata": {},
   "source": [
    "*d) All of the above.*"
   ]
  },
  {
   "cell_type": "markdown",
   "metadata": {},
   "source": [
    "**Q50. In regards to separated value files such as .csv and .tsv, what is the delimiter?**"
   ]
  },
  {
   "cell_type": "markdown",
   "metadata": {},
   "source": [
    "*C) Any character such as the comma (,) or tab (\\t) that is used to separate the column data.*"
   ]
  },
  {
   "cell_type": "markdown",
   "metadata": {},
   "source": [
    "Q51. In separated value files such as .csv and .tsv, what does the first row in the file typically contain?"
   ]
  },
  {
   "cell_type": "markdown",
   "metadata": {},
   "source": [
    "a) The column names of the data."
   ]
  },
  {
   "cell_type": "markdown",
   "metadata": {},
   "source": [
    "**Q51. In separated value files such as .csv and .tsv, what does the first row in the file typically contain?**\n",
    "\n",
    "*a) The column names of the data.*\n",
    "\n",
    "**Q52. Assume you have a file object my_data, which has properly opened a separated value file that uses the tab character (\\t) as the delimiter. What is the proper way to open the file using the Python CSV module and assign it to the variable csv_reader? Assume that csv has already been imported.**\n",
    "\n",
    "*b) csv.reader(my_data, delimiter='\\t')*\n",
    "\n",
    "**Q53. When iterating over an object returned from csv.reader(), what is returned with each iteration? For example, given the following code block that assumes csv_reader is an object returned from csv.reader(), what would be printed to the console with each iteration?**\n",
    "\n",
    "*a) The full line of the file as a string*\n",
    "\n",
    "**Q54. When writing to a CSV file using the .writerow() method of the csv.DictWriter object, what must each key in the input dict represent? Below is an example:**\n",
    "\n",
    "*c) Each key must match up to the field names (column names) used to identify the column data*\n",
    "\n",
    "\n",
    "**Q55. Which is the correct way to open the CSV file hrdata.csv for reading using the pandas package? Assume that the pandas package has already been imported.**\n",
    "\n",
    "*c) pandas.read_csv('hrdata.csv')*\n",
    "\n",
    "**Q56. By default, pandas uses 0-based indices for indexing rows. Which is the correct way to import the CSV file hrdata.csv for reading and using the 'Name' column as the index row instead? Below is the contents of hrdata.csv**\n",
    "\n",
    "*c) pandas.read_csv('hrdata.csv', index='Name')*\n",
    "\n",
    "**Q57. Given the file dog_breeds.txt, which of the following is the correct way to open the file for reading as a text file? Select all that apply.**\n",
    "\n",
    "*c) open('dog_breeds.txt')*\n",
    " \n",
    "**Q58. Given the following directory structure: Assuming that the cwd is in the root folder where animals reside, what is the full path to the feline folder?**\n",
    "\n",
    "Answer: *animals/feline/*\n",
    "\n",
    "**Q59. Given the file jack_russell.png, which of the following is the correct way to open the file for reading as a buffered binary file? Select all that apply.**\n",
    "\n",
    "*open('jack_russell.png', 'rb')*\n",
    "*open('jack_russell.png', bytes=True)*\n",
    "\n",
    "**Q60. Using the same directory structure as before: Assuming that the cwd is in the root folder where Animals reside, what is the full path to the file bears.gif?**\n",
    "\n",
    "Answer: *animals/ursine/bears.gif*\n",
    "\n",
    "**Q61. Whenever possible, what is the recommended way to ensure that a file object is properly closed after usage?**\n",
    "\n",
    "*a) Making sure that you use the .close() method before the end of the script*\n",
    "\n",
    "**Q62. Using the same directory structure as before: Assuming that the cwd is in the feline folder, what is the relative path to the file bears.gif?**\n",
    "\n",
    "Answer: *feline/animals/ursine/bears.gif*\n",
    "\n",
    "**Q63. When reading a file using the file object, what method is best for reading the entire file into a single string?**\n",
    "\n",
    "*c) .readlines()*\n",
    " \n",
    "**Q64. The value 1.73 rounded to one decimal place using the “rounding up” strategy is…**\n",
    "\n",
    "*b) 1.7*\n",
    "\n",
    "**Q65. The value -2.961 rounded to two decimal places using the “rounding down” strategy is…**\n",
    "\n",
    "*a) -2.96*\n",
    "\n",
    "**Q66. When a value is truncated to 3 decimal places, which of the following is true?**\n",
    "\n",
    "*e) None of the above since rounding off depends on whether number is below .5 or not*\n",
    "\n",
    "**Q67. The value -0.045 rounded to 2 decimal places using the “round half away from zero” strategy is…**\n",
    "\n",
    "*b) -0.04*\n",
    "\n",
    "**Q68. Which rounding strategy does Python’s built-in round() function use?**\n",
    "\n",
    "*b)\tRound half away from zero*\n",
    "\n",
    "**Q69. The value 4.65 rounded to one decimal place using the “round half to even” strategy is…**\n",
    "\n",
    "*a)  4.6*\n",
    " \n",
    "**Q70. Which problem arises due to the multiple inheritances, if hierarchical inheritance is used previously for its base classes?**\n",
    "\n",
    "*a) Diamond*\n",
    "\n",
    "**Q71. How many classes should a program contain to implement the multiple inheritances?**\n",
    "\n",
    "*b) At least 1* \n",
    "\n",
    "**Q72. If class a inherits class b and class c as “class a: public class b, public class c {// class body ;}; ”, which class constructor will be called first?**\n",
    "\n",
    "*a) Class a.*\n",
    "\n",
    "**Q73.If all the members of all base classes are private then,**\n",
    "\n",
    "*a) There won’t be any use of multiple inheritance*\n",
    "\n",
    "**Q74. Can the derived class be made abstract if multiple inheritance is used?**\n",
    " \n",
    "*c) Yes, if all the methods are predefined* \n",
    "\n",
    "**Q75. Which among the following best defines the multilevel inheritance?**\n",
    "\n",
    "*a) A class derived from another derived class*\n",
    "\n",
    "**Q76. If there are 5 classes, E is derived from D, D from C, C from B and B from A. Which class constructor will be called first if the object of E or D is created?\n",
    "\n",
    "*c) C*\n",
    "\n",
    "**Q77. Which Class is having the highest degree of abstraction in multilevel inheritance of 5 levels?**\n",
    "\n",
    "*a) Class at 1st level*\n",
    "\n",
    "**Q79. If all the classes used parameterized constructors and no default constructor then,**\n",
    "\n",
    "*b) Object of lower-level classes must call parent class constructors explicitly*\n",
    " \n",
    "**Q80. Which is the universal exception handler class?**\n",
    "\n",
    "*c) Errors*\n",
    "\n",
    "**Q81. What are two exception classes in the hierarchy of java exceptions class?**\n",
    "\n",
    "*b) Compile-time exceptions only*\n",
    "\n",
    "**Q82. Which are the two blocks that are used to check error and handle the error?**\n",
    "\n",
    "*a)  Try  and  catch/except*\n",
    "\n",
    "**Q83. To catch the exceptions**\n",
    "\n",
    "*a) An object must be created to catch the exception*\n",
    "\n",
    "**Q84. Which class is used to handle the input and output exceptions?**\n",
    "\n",
    "*c) IOExceptions*\n",
    " \n",
    "**Q85. Which among the following is true for the class exceptions?**\n",
    "\n",
    "*d) Both base class and derived class may produce exceptions*\n",
    "\n",
    "**Q86. If both base and derived class caught the exceptions,**\n",
    "\n",
    "*b) Then catch block of the base class must be defined before the derived class*\n",
    "\n",
    "**Q87.  The catching of base class the exception in java.**\n",
    "\n",
    "\n",
    "**Q88. Which of the following handles the undefined class in the program?**\n",
    "\n",
    "*a) ClassNotFound*\n",
    "\n",
    "**Q89. Which among the following is true?**\n",
    "\n",
    "*c)Both the base and derived class catch the blocks are important*\n",
    " \n",
    "**Q90. Which condition among the following might result in memory exception?**\n",
    "\n",
    "*c) Infinite loops*\n",
    "\n",
    "**Q91. Which among the following is the correct definition for static member functions?**\n",
    "\n",
    "*c) Functions created to define the static members*\n",
    "\n",
    "**Q92. The static member functions**\n",
    "\n",
    "*b) Having access to only constant members of a class*\n",
    "\n",
    "**Q93. Which is the correct syntax to access the static member functions with a class name?**\n",
    "\n",
    "*a) className . functionName;*\n",
    "\n",
    "**Q94. The static members are**\n",
    "\n",
    "*d) Created and initialised, only once*\n",
    "\n",
    "**Q95. Which among the following is true?**\n",
    "\n",
    "*b) Static member functions can’t be overloaded.*\n",
    "\n",
    "**Q96. The static member functions**\n",
    "\n",
    "*d) Can’t be declared const, volatile, or constant volatile.*\n",
    "\n",
    "**Q97. Which among the following can’t be used to access the members in anyway?**\n",
    "\n",
    "*b) Arrow operator.*\n",
    "\n",
    "**Q98. If static data member are made inline,**\n",
    "\n",
    "*a) Those should be initialised outside of the class.*\n",
    "\n",
    "**Q99. The static data member**\n",
    "\n",
    "*b) Can’t be mutable.*\n",
    "\n",
    "**Q100. We can use the static member functions and static data member.**\n",
    "\n",
    "*d) Even if a class doesn’t have a complete definition*\n",
    "\n",
    "**Q101. Point out the wrong statement:**\n",
    "\n",
    "*c) rPy provides lots of scientific routines that work on top of NumPy.*\n",
    "\n",
    "**Q102. The function returns its argument with the modified shape, whereas the method modifies the array itself.**\n",
    "\n",
    "*a) reshape, resize.*\n",
    "\n",
    "**Q103. To create sequences of the numbers, NumPy provides a function analogous to range that returns arrays instead of lists **\n",
    "\n",
    "*a) arrange.*\n",
    "\n",
    "**Q104. Point out the correct statement:**\n",
    "\n",
    "*c) Numpy array class is called ndarray.*\n",
    "\n",
    "**Q105. Which of the following function stack 1D array as the columns into the 2D array?**\n",
    "\n",
    "*b) column_stack.*\n",
    "\n",
    "**Q106. ndarray is also known as an alias array.**\n",
    "\n",
    "*a) True*\n",
    "\n",
    "**Q107. Which of the following method creates the new array object that looks at the same data?**\n",
    "\n",
    "*b) copy.*\n",
    "\n",
    "**Q108. Which of the functions can be used to combine the different vectors to obtain the result for each n-uplet?**\n",
    "\n",
    "*b) ix_.*\n",
    "\n",
    "**Q109. ndarray.dataitemSize is the buffer containing actual elements of an array.**\n",
    "\n",
    "*a) True*\n",
    " \n",
    "**Q110. Which of the following is in the NumPy library?**\n",
    "\n",
    "*a) The n-dimensional array object*\n",
    "\n",
    "**Q111. Which of the following sets the size of the buffer used in ufuncs ?**\n",
    "\n",
    "*d) all of the Mentioned*\n",
    "\n",
    "**Q112. Point out the wrong statement:**\n",
    "\n",
    "*c) Many of the built-in functions are implemented in compiled C code*\n",
    "\n",
    "**Q113. Which of the following attribute should be used while checking the type combination input and output?**\n",
    "\n",
    "*b) .type*\n",
    "\n",
    "**Q114. Which of the following returns an array of “ones” with the same shape and type as a given array?**\n",
    "\n",
    "**Q115. Point out the wrong statement:**\n",
    "\n",
    "*b)Broadcasting is used throughout NumPy to decide how to handle the disparately shaped arrays*\n",
    "\n",
    "**Q116. Which of the following set of a floating-point error callback function or a log object?**\n",
    "\n",
    "*a)setter.*\n",
    "\n",
    "**Q117. Some ufuncs can take output arguments.**\n",
    "\n",
    "*a) True*\n",
    "\n",
    "**Q119. Which of the following function take the only a single value as input?**\n",
    "\n",
    "*a) iscomplex.*\n",
    "\n",
    "**Q120. The array object returned by the _array_prepare_ is passed to ufunc for computation.**\n",
    "\n",
    "*b) False*\n",
    " \n",
    "**Q121. All pandas data structures are mutable but not always mutable\n",
    "\n",
    "*d) none of the mentioned.*\n",
    "\n",
    "**Q122. Point out the correct statement:**\n",
    "\n",
    "*a)  Pandas  consist  of  a  set  of  the  labelled  array  data  structures*\n",
    "\n",
    "**Q123. Which of the following statement will import the pandas?**\n",
    "\n",
    "*a) import pandas as pd*\n",
    "\n",
    "**Q124. Which of the following object did we get after reading the CSV file?**\n",
    "\n",
    "*a) DataFrame.*\n",
    "\n",
    "**Q125. Point out the wrong statement:**\n",
    "\n",
    "*d) None of the Mentioned.*\n",
    " \n",
    "**Q126. Which of the following library is similar to the pandas?**\n",
    "\n",
    "*d) None of the mentioned.*\n",
    "\n",
    "**Q127. Panel is a container for the Series, and DataFrame is a container for DataFrame objects.**\n",
    "\n",
    "*a) True*\n",
    "\n",
    "**Q128. Which of the following is the prominent python “statistics and econometrics library”?**\n",
    "\n",
    "*c) Statsmodels.*\n",
    "\n",
    "**Q129. Which of the following is the foundational exploratory visualisation package for the R language in the pandas ecosystem?**\n",
    "\n",
    "*b) Seaborn.*\n",
    "\n",
    "**Q130. Pandas consist of static and the moving window linear and panel regression.**\n",
    "\n",
    "*a) True*\n",
    " \n",
    "**Q131. Quandl API for Python wraps the REST API to returns the pandas DataFrames with time series indexes.**\n",
    " \n",
    "*a) Quandl.*\n",
    "\n",
    "**Q132. Point out the correct statement:\n",
    "\n",
    "*d) All of the Mentioned*\n",
    "\n",
    "**Q133.Which of the following library is used to retrieve and to acquire statistical data and metadata disseminated in SDMX 2.1?**\n",
    "\n",
    "*b) freedapi*\n",
    "\n",
    "**Q134. Which of the following provides the standard API for doing computations with MongoDB?**\n",
    "\n",
    "*d) All of the Mentioned.*\n",
    "\n",
    "**Q135. Point out the wrong statement:**\n",
    "\n",
    "*a) qgrid is an interactive grid for sorting and the filtering DataFrames*\n",
    "\n",
    "**Q136. Which of the following makes use of the pandas and returns data in a Series or DataFrame?**\n",
    "\n",
    "*d) none of the mentioned.*\n",
    "\n",
    "**Q137. Spyder can introspect and display Pandas DataFrames.**\n",
    "\n",
    "*a) True*\n",
    "\n",
    "**Q138. Which of the following is used for machine learning in the python?**\n",
    "\n",
    "*a) sci-kit-learn.*\n",
    "\n",
    "**Q139. The project builds on top of the pandas and matplotlib to provide easy plotting of data.**\n",
    "\n",
    "*b) Seaborn.*\n",
    "\n",
    "**Q140 x-ray brings the labelled data power of pandas to the physical sciences.**\n",
    "\n",
    "*b) False*\n",
    " \n",
    "**Q141. Which of the following is the base layer of all of the sparse has it indexed data structures**\n",
    "\n",
    "*d) None of the mentioned.*\n",
    "\n",
    "**Q142. Point out the correct statement.**\n",
    "\n",
    "*d) All of the mentioned.*\n",
    "\n",
    "**Q143. Which of the following is not an indexed object?**\n",
    "\n",
    "*d) None of the mentioned.*\n",
    "\n",
    "**Q144. Which of the following list like data structure is used for managing the dynamic collection of SparseArrays?**\n",
    "\n",
    "*d) All of the mentioned.*\n",
    "\n",
    "**Q145. Point out the wrong statement.**\n",
    "\n",
    "*b) Two kinds of SparseIndex are implemented.*\n",
    " \n",
    "**Q146. Which of the following method used for transforming the Sparse-series index by the MultiIndex to a scipy.sparse.coo_matrix?**\n",
    "\n",
    "*b) Series.to_coo().*\n",
    "\n",
    "**Q147. The integer format tracks only the locations and the sizes of blocks of data.**\n",
    "\n",
    "*a) True*\n",
    "\n",
    "**Q148. Which of the following is used for the testing for membership in the list of column names?**\n",
    "\n",
    "*c)\telse if.*\n",
    "\n",
    "**Q149. Which of the following indexing capabilities is used as the concise means of selecting data from a pandas object?**\n",
    "\n",
    "*b) ix.*\n",
    "\n",
    "**Q150. Pandas follow the NumPy convention of raising an error when you try to convert something to a bool.**\n",
    "\n",
    "*a) True*"
   ]
  },
  {
   "cell_type": "code",
   "execution_count": null,
   "metadata": {},
   "outputs": [],
   "source": []
  }
 ],
 "metadata": {
  "kernelspec": {
   "display_name": "Python 3",
   "language": "python",
   "name": "python3"
  },
  "language_info": {
   "codemirror_mode": {
    "name": "ipython",
    "version": 3
   },
   "file_extension": ".py",
   "mimetype": "text/x-python",
   "name": "python",
   "nbconvert_exporter": "python",
   "pygments_lexer": "ipython3",
   "version": "3.7.3"
  }
 },
 "nbformat": 4,
 "nbformat_minor": 4
}
